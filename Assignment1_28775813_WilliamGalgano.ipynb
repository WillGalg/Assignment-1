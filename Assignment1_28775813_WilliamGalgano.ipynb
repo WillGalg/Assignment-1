{
 "cells": [
  {
   "cell_type": "code",
   "execution_count": 1,
   "metadata": {},
   "outputs": [],
   "source": [
    "from motionchart.motionchart import MotionChart\n",
    "import pandas as pd"
   ]
  },
  {
   "cell_type": "code",
   "execution_count": 36,
   "metadata": {
    "scrolled": true
   },
   "outputs": [
    {
     "name": "stderr",
     "output_type": "stream",
     "text": [
      "C:\\Users\\Will\\Anaconda3\\lib\\site-packages\\pandas\\core\\groupby\\groupby.py:4658: FutureWarning: using a dict with renaming is deprecated and will be removed in a future version\n",
      "  return super(DataFrameGroupBy, self).aggregate(arg, *args, **kwargs)\n"
     ]
    },
    {
     "data": {
      "text/plain": [
       "Index(['Years', 'Years', 'Passenger Totals'], dtype='object')"
      ]
     },
     "execution_count": 36,
     "metadata": {},
     "output_type": "execute_result"
    }
   ],
   "source": [
    "sD = pd.read_csv('CityPairs.csv')\n",
    "# have a look at the dataframe, it should be exactly the same as the one we had before\n",
    "sD\n",
    "Ports = ['Adelaide','Melbourne','Sydney','Brisbane','Perth']\n",
    "fun = {'Passengers_Total':{'Passenger Totals':'sum'},'Freight_Total_(tonnes)':{'Freight Totals':'sum'},'Mail_Total_(tonnes)':{'Mail Totals':'sum'}}\n",
    "GroupByPortYear = sD.groupby(['AustralianPort','Year']).agg(fun)\n",
    "\n",
    "GroupByPortYear = GroupByPortYear.reset_index() # reset its index\n",
    "GroupByPortYear.columns = GroupByPortYear.columns.droplevel(0) # drop level 0 index\n",
    "GroupByPortYear.rename(columns = {GroupByPortYear.columns[0]:'AustralianPorts',GroupByPortYear.columns[1]:'Years'},inplace = True) # rename the first column\n",
    "# GroupByPortYear.rename(columns = {GroupByPortYear.columns[1]:'Years'}) # rename the first column\n",
    "GroupByPortYear.columns[0:3]\n",
    "\n",
    "# FinalFrame = GroupByPortYear.loc[Ports] # Only looks at the 5 selected ports\n",
    "# FinalFrame"
   ]
  },
  {
   "cell_type": "code",
   "execution_count": 197,
   "metadata": {},
   "outputs": [
    {
     "data": {
      "text/html": [
       "<style>\n",
       ".output_wrapper, .output {\n",
       "    height:auto !important;\n",
       "    max-height:auto;  /* your desired max-height here */\n",
       "}\n",
       ".output_scroll {\n",
       "    box-shadow:none !important;\n",
       "    webkit-box-shadow:none !important;\n",
       "}\n",
       "</style>"
      ],
      "text/plain": [
       "<IPython.core.display.HTML object>"
      ]
     },
     "metadata": {},
     "output_type": "display_data"
    }
   ],
   "source": [
    "%%html\n",
    "<style>\n",
    ".output_wrapper, .output {\n",
    "    height:auto !important;\n",
    "    max-height:auto;  /* your desired max-height here */\n",
    "}\n",
    ".output_scroll {\n",
    "    box-shadow:none !important;\n",
    "    webkit-box-shadow:none !important;\n",
    "}\n",
    "</style>"
   ]
  },
  {
   "cell_type": "code",
   "execution_count": 198,
   "metadata": {},
   "outputs": [
    {
     "data": {
      "text/html": [
       "\n",
       "        <iframe\n",
       "            width=\"900\"\n",
       "            height=\"700\"\n",
       "            src=\"mc_temp.html\"\n",
       "            frameborder=\"0\"\n",
       "            allowfullscreen\n",
       "        ></iframe>\n",
       "        "
      ],
      "text/plain": [
       "<IPython.lib.display.IFrame at 0x2029a7194a8>"
      ]
     },
     "metadata": {},
     "output_type": "display_data"
    }
   ],
   "source": [
    "mChart = MotionChart(df = FinalFrame, color = 'AustralianPort')\n",
    "mChart.to_notebook()"
   ]
  }
 ],
 "metadata": {
  "kernelspec": {
   "display_name": "Python 3",
   "language": "python",
   "name": "python3"
  },
  "language_info": {
   "codemirror_mode": {
    "name": "ipython",
    "version": 3
   },
   "file_extension": ".py",
   "mimetype": "text/x-python",
   "name": "python",
   "nbconvert_exporter": "python",
   "pygments_lexer": "ipython3",
   "version": "3.6.5"
  }
 },
 "nbformat": 4,
 "nbformat_minor": 2
}
